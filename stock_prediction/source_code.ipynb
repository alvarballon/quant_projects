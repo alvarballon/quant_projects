{
 "cells": [
  {
   "cell_type": "code",
   "execution_count": 1,
   "id": "0e6dfb2d-3ec4-4f5c-9924-8e57924a50d2",
   "metadata": {},
   "outputs": [],
   "source": [
    "import pandas as pd\n",
    "import numpy as np\n",
    "import matplotlib.pyplot as plt"
   ]
  },
  {
   "cell_type": "markdown",
   "id": "b75b7bc9-a644-4a7f-ba68-8c9ad74f79ae",
   "metadata": {},
   "source": [
    "First let us import the data from the attached csv file."
   ]
  },
  {
   "cell_type": "code",
   "execution_count": 2,
   "id": "604bb426-d9f7-46b5-8d7a-8424ca3627ad",
   "metadata": {},
   "outputs": [],
   "source": [
    "csu = pd.read_csv('csu.csv')"
   ]
  },
  {
   "cell_type": "markdown",
   "id": "d806f275-8c29-4c1a-a3ac-6bb51bd3c361",
   "metadata": {},
   "source": [
    "We focus on the following features:\n",
    "\n",
    "- `Close`: The price of one share at the time the market closes.\n",
    "- `High`: The maximum share price in a given day.\n",
    "- `Low`: The minimum share price in a given day\n",
    "- `Open`: The price of one share at the time the market opens.\n",
    "- `Volume`: The number of share traded in a given day.\n",
    "- `Log Returns`: The logarithms of the quotient between the closing prices on the present day and the previous day.\n",
    "- `High - Low`: The difference between `High` and `Low`.\n",
    "- `Open - Close`: The difference between `Open` and `Close`.\n",
    "- `d-day Momentum`: The difference in the closing prices on the present day and $d$ days ago.\n",
    "- `d-day Moving Average`: The average closing share price calculated using information from the last $d$ days.\n",
    "- `d-day Volatility`: The volatility of the closing share prices calculated \n",
    "using information from the last $d$ days.\n",
    "- `d-day Quarter Upper Band`: One quarter of the upper Bollinger band calculated using information from the last $d$ days.\n",
    "\n",
    "Where we use $d = 5, 10, 20$ days."
   ]
  },
  {
   "cell_type": "code",
   "execution_count": 3,
   "id": "790e6093-6383-4847-beaf-857717ee7589",
   "metadata": {},
   "outputs": [],
   "source": [
    "csu[\"Log Returns\"] = np.log(csu[\"Close\"]/csu[\"Close\"].shift(1))\n",
    "csu[\"High-Low\"] = csu[\"High\"]- csu[\"Low\"]\n",
    "csu[\"Open-Close\"] = csu[\"Open\"] - csu[\"Close\"]\n",
    "csu[\"5d Momentum\"] = csu[\"Close\"] - csu[\"Close\"].shift(5)\n",
    "csu[\"5d Moving Average\"] = csu[\"Close\"].rolling(5).mean()\n",
    "csu[\"5d Rolling Volatility\"] = csu[\"Close\"].rolling(5).std()\n",
    "csu[\"5d Quarter Upper Band\"] = csu[\"5d Moving Average\"] + 0.5*csu[\"5d Rolling Volatility\"]\n",
    "csu[\"10d Momentum\"] = csu[\"Close\"] - csu[\"Close\"].shift(10)\n",
    "csu[\"10d Moving Average\"] = csu[\"Close\"].rolling(10).mean()\n",
    "csu[\"10d Rolling Volatility\"] = csu[\"Close\"].rolling(10).std()\n",
    "csu[\"10d Quarter Upper Band\"] = csu[\"10d Moving Average\"] + 0.5*csu[\"10d Rolling Volatility\"]\n",
    "csu[\"20d Momentum\"] = csu[\"Close\"] - csu[\"Close\"].shift(20)\n",
    "csu[\"20d Moving Average\"] = csu[\"Close\"].rolling(20).mean()\n",
    "csu[\"20d Rolling Volatility\"] = csu[\"Close\"].rolling(20).std()\n",
    "csu[\"20d Quarter Upper Band\"] = csu[\"20d Moving Average\"] + 0.5*csu[\"20d Rolling Volatility\"]"
   ]
  },
  {
   "cell_type": "markdown",
   "id": "56051f7d-7549-4be1-b175-960ce7287f08",
   "metadata": {},
   "source": [
    "Let us inspect the DataFrame `csu`"
   ]
  },
  {
   "cell_type": "code",
   "execution_count": 4,
   "id": "02a0961b-461b-406b-b6b1-e8877ab7dfe6",
   "metadata": {},
   "outputs": [
    {
     "data": {
      "text/html": [
       "<div>\n",
       "<style scoped>\n",
       "    .dataframe tbody tr th:only-of-type {\n",
       "        vertical-align: middle;\n",
       "    }\n",
       "\n",
       "    .dataframe tbody tr th {\n",
       "        vertical-align: top;\n",
       "    }\n",
       "\n",
       "    .dataframe thead th {\n",
       "        text-align: right;\n",
       "    }\n",
       "</style>\n",
       "<table border=\"1\" class=\"dataframe\">\n",
       "  <thead>\n",
       "    <tr style=\"text-align: right;\">\n",
       "      <th></th>\n",
       "      <th>Close</th>\n",
       "      <th>High</th>\n",
       "      <th>Low</th>\n",
       "      <th>Open</th>\n",
       "      <th>Volume</th>\n",
       "      <th>Log Returns</th>\n",
       "      <th>High-Low</th>\n",
       "      <th>Open-Close</th>\n",
       "      <th>5d Momentum</th>\n",
       "      <th>5d Moving Average</th>\n",
       "      <th>5d Rolling Volatility</th>\n",
       "      <th>5d Quarter Upper Band</th>\n",
       "      <th>10d Momentum</th>\n",
       "      <th>10d Moving Average</th>\n",
       "      <th>10d Rolling Volatility</th>\n",
       "      <th>10d Quarter Upper Band</th>\n",
       "      <th>20d Momentum</th>\n",
       "      <th>20d Moving Average</th>\n",
       "      <th>20d Rolling Volatility</th>\n",
       "      <th>20d Quarter Upper Band</th>\n",
       "    </tr>\n",
       "  </thead>\n",
       "  <tbody>\n",
       "    <tr>\n",
       "      <th>0</th>\n",
       "      <td>1466.411743</td>\n",
       "      <td>1470.771890</td>\n",
       "      <td>1423.710377</td>\n",
       "      <td>1448.427571</td>\n",
       "      <td>32900</td>\n",
       "      <td>NaN</td>\n",
       "      <td>47.061513</td>\n",
       "      <td>-17.984172</td>\n",
       "      <td>NaN</td>\n",
       "      <td>NaN</td>\n",
       "      <td>NaN</td>\n",
       "      <td>NaN</td>\n",
       "      <td>NaN</td>\n",
       "      <td>NaN</td>\n",
       "      <td>NaN</td>\n",
       "      <td>NaN</td>\n",
       "      <td>NaN</td>\n",
       "      <td>NaN</td>\n",
       "      <td>NaN</td>\n",
       "      <td>NaN</td>\n",
       "    </tr>\n",
       "    <tr>\n",
       "      <th>1</th>\n",
       "      <td>1444.294922</td>\n",
       "      <td>1472.680232</td>\n",
       "      <td>1398.993298</td>\n",
       "      <td>1459.945928</td>\n",
       "      <td>48500</td>\n",
       "      <td>-0.015197</td>\n",
       "      <td>73.686934</td>\n",
       "      <td>15.651006</td>\n",
       "      <td>NaN</td>\n",
       "      <td>NaN</td>\n",
       "      <td>NaN</td>\n",
       "      <td>NaN</td>\n",
       "      <td>NaN</td>\n",
       "      <td>NaN</td>\n",
       "      <td>NaN</td>\n",
       "      <td>NaN</td>\n",
       "      <td>NaN</td>\n",
       "      <td>NaN</td>\n",
       "      <td>NaN</td>\n",
       "      <td>NaN</td>\n",
       "    </tr>\n",
       "    <tr>\n",
       "      <th>2</th>\n",
       "      <td>1446.035034</td>\n",
       "      <td>1481.034608</td>\n",
       "      <td>1428.584790</td>\n",
       "      <td>1463.258020</td>\n",
       "      <td>45900</td>\n",
       "      <td>0.001204</td>\n",
       "      <td>52.449818</td>\n",
       "      <td>17.222986</td>\n",
       "      <td>NaN</td>\n",
       "      <td>NaN</td>\n",
       "      <td>NaN</td>\n",
       "      <td>NaN</td>\n",
       "      <td>NaN</td>\n",
       "      <td>NaN</td>\n",
       "      <td>NaN</td>\n",
       "      <td>NaN</td>\n",
       "      <td>NaN</td>\n",
       "      <td>NaN</td>\n",
       "      <td>NaN</td>\n",
       "      <td>NaN</td>\n",
       "    </tr>\n",
       "    <tr>\n",
       "      <th>3</th>\n",
       "      <td>1432.638428</td>\n",
       "      <td>1453.371184</td>\n",
       "      <td>1419.063762</td>\n",
       "      <td>1453.371184</td>\n",
       "      <td>39300</td>\n",
       "      <td>-0.009308</td>\n",
       "      <td>34.307421</td>\n",
       "      <td>20.732756</td>\n",
       "      <td>NaN</td>\n",
       "      <td>NaN</td>\n",
       "      <td>NaN</td>\n",
       "      <td>NaN</td>\n",
       "      <td>NaN</td>\n",
       "      <td>NaN</td>\n",
       "      <td>NaN</td>\n",
       "      <td>NaN</td>\n",
       "      <td>NaN</td>\n",
       "      <td>NaN</td>\n",
       "      <td>NaN</td>\n",
       "      <td>NaN</td>\n",
       "    </tr>\n",
       "    <tr>\n",
       "      <th>4</th>\n",
       "      <td>1443.840088</td>\n",
       "      <td>1444.354225</td>\n",
       "      <td>1405.587815</td>\n",
       "      <td>1405.587815</td>\n",
       "      <td>27200</td>\n",
       "      <td>0.007788</td>\n",
       "      <td>38.766410</td>\n",
       "      <td>-38.252273</td>\n",
       "      <td>NaN</td>\n",
       "      <td>1446.644043</td>\n",
       "      <td>12.254292</td>\n",
       "      <td>1452.771189</td>\n",
       "      <td>NaN</td>\n",
       "      <td>NaN</td>\n",
       "      <td>NaN</td>\n",
       "      <td>NaN</td>\n",
       "      <td>NaN</td>\n",
       "      <td>NaN</td>\n",
       "      <td>NaN</td>\n",
       "      <td>NaN</td>\n",
       "    </tr>\n",
       "    <tr>\n",
       "      <th>5</th>\n",
       "      <td>1472.541992</td>\n",
       "      <td>1474.430420</td>\n",
       "      <td>1434.586246</td>\n",
       "      <td>1444.967470</td>\n",
       "      <td>55500</td>\n",
       "      <td>0.019684</td>\n",
       "      <td>39.844174</td>\n",
       "      <td>-27.574522</td>\n",
       "      <td>6.130249</td>\n",
       "      <td>1447.870093</td>\n",
       "      <td>14.774103</td>\n",
       "      <td>1455.257144</td>\n",
       "      <td>NaN</td>\n",
       "      <td>NaN</td>\n",
       "      <td>NaN</td>\n",
       "      <td>NaN</td>\n",
       "      <td>NaN</td>\n",
       "      <td>NaN</td>\n",
       "      <td>NaN</td>\n",
       "      <td>NaN</td>\n",
       "    </tr>\n",
       "    <tr>\n",
       "      <th>6</th>\n",
       "      <td>1516.419800</td>\n",
       "      <td>1527.522745</td>\n",
       "      <td>1458.324491</td>\n",
       "      <td>1502.123412</td>\n",
       "      <td>58200</td>\n",
       "      <td>0.029362</td>\n",
       "      <td>69.198254</td>\n",
       "      <td>-14.296388</td>\n",
       "      <td>72.124878</td>\n",
       "      <td>1462.295068</td>\n",
       "      <td>33.611670</td>\n",
       "      <td>1479.100903</td>\n",
       "      <td>NaN</td>\n",
       "      <td>NaN</td>\n",
       "      <td>NaN</td>\n",
       "      <td>NaN</td>\n",
       "      <td>NaN</td>\n",
       "      <td>NaN</td>\n",
       "      <td>NaN</td>\n",
       "      <td>NaN</td>\n",
       "    </tr>\n",
       "    <tr>\n",
       "      <th>7</th>\n",
       "      <td>1515.094849</td>\n",
       "      <td>1538.131201</td>\n",
       "      <td>1486.106456</td>\n",
       "      <td>1507.106174</td>\n",
       "      <td>45100</td>\n",
       "      <td>-0.000874</td>\n",
       "      <td>52.024745</td>\n",
       "      <td>-7.988674</td>\n",
       "      <td>69.059814</td>\n",
       "      <td>1476.107031</td>\n",
       "      <td>39.014593</td>\n",
       "      <td>1495.614328</td>\n",
       "      <td>NaN</td>\n",
       "      <td>NaN</td>\n",
       "      <td>NaN</td>\n",
       "      <td>NaN</td>\n",
       "      <td>NaN</td>\n",
       "      <td>NaN</td>\n",
       "      <td>NaN</td>\n",
       "      <td>NaN</td>\n",
       "    </tr>\n",
       "    <tr>\n",
       "      <th>8</th>\n",
       "      <td>1557.845581</td>\n",
       "      <td>1565.260739</td>\n",
       "      <td>1515.470441</td>\n",
       "      <td>1515.470441</td>\n",
       "      <td>39900</td>\n",
       "      <td>0.027826</td>\n",
       "      <td>49.790298</td>\n",
       "      <td>-42.375140</td>\n",
       "      <td>125.207153</td>\n",
       "      <td>1501.148462</td>\n",
       "      <td>44.002439</td>\n",
       "      <td>1523.149681</td>\n",
       "      <td>NaN</td>\n",
       "      <td>NaN</td>\n",
       "      <td>NaN</td>\n",
       "      <td>NaN</td>\n",
       "      <td>NaN</td>\n",
       "      <td>NaN</td>\n",
       "      <td>NaN</td>\n",
       "      <td>NaN</td>\n",
       "    </tr>\n",
       "    <tr>\n",
       "      <th>9</th>\n",
       "      <td>1574.248047</td>\n",
       "      <td>1600.626170</td>\n",
       "      <td>1546.198979</td>\n",
       "      <td>1546.198979</td>\n",
       "      <td>16400</td>\n",
       "      <td>0.010474</td>\n",
       "      <td>54.427191</td>\n",
       "      <td>-28.049068</td>\n",
       "      <td>130.407959</td>\n",
       "      <td>1527.230054</td>\n",
       "      <td>40.009096</td>\n",
       "      <td>1547.234602</td>\n",
       "      <td>NaN</td>\n",
       "      <td>1486.937048</td>\n",
       "      <td>50.814307</td>\n",
       "      <td>1512.344202</td>\n",
       "      <td>NaN</td>\n",
       "      <td>NaN</td>\n",
       "      <td>NaN</td>\n",
       "      <td>NaN</td>\n",
       "    </tr>\n",
       "  </tbody>\n",
       "</table>\n",
       "</div>"
      ],
      "text/plain": [
       "         Close         High          Low         Open  Volume  Log Returns  \\\n",
       "0  1466.411743  1470.771890  1423.710377  1448.427571   32900          NaN   \n",
       "1  1444.294922  1472.680232  1398.993298  1459.945928   48500    -0.015197   \n",
       "2  1446.035034  1481.034608  1428.584790  1463.258020   45900     0.001204   \n",
       "3  1432.638428  1453.371184  1419.063762  1453.371184   39300    -0.009308   \n",
       "4  1443.840088  1444.354225  1405.587815  1405.587815   27200     0.007788   \n",
       "5  1472.541992  1474.430420  1434.586246  1444.967470   55500     0.019684   \n",
       "6  1516.419800  1527.522745  1458.324491  1502.123412   58200     0.029362   \n",
       "7  1515.094849  1538.131201  1486.106456  1507.106174   45100    -0.000874   \n",
       "8  1557.845581  1565.260739  1515.470441  1515.470441   39900     0.027826   \n",
       "9  1574.248047  1600.626170  1546.198979  1546.198979   16400     0.010474   \n",
       "\n",
       "    High-Low  Open-Close  5d Momentum  5d Moving Average  \\\n",
       "0  47.061513  -17.984172          NaN                NaN   \n",
       "1  73.686934   15.651006          NaN                NaN   \n",
       "2  52.449818   17.222986          NaN                NaN   \n",
       "3  34.307421   20.732756          NaN                NaN   \n",
       "4  38.766410  -38.252273          NaN        1446.644043   \n",
       "5  39.844174  -27.574522     6.130249        1447.870093   \n",
       "6  69.198254  -14.296388    72.124878        1462.295068   \n",
       "7  52.024745   -7.988674    69.059814        1476.107031   \n",
       "8  49.790298  -42.375140   125.207153        1501.148462   \n",
       "9  54.427191  -28.049068   130.407959        1527.230054   \n",
       "\n",
       "   5d Rolling Volatility  5d Quarter Upper Band  10d Momentum  \\\n",
       "0                    NaN                    NaN           NaN   \n",
       "1                    NaN                    NaN           NaN   \n",
       "2                    NaN                    NaN           NaN   \n",
       "3                    NaN                    NaN           NaN   \n",
       "4              12.254292            1452.771189           NaN   \n",
       "5              14.774103            1455.257144           NaN   \n",
       "6              33.611670            1479.100903           NaN   \n",
       "7              39.014593            1495.614328           NaN   \n",
       "8              44.002439            1523.149681           NaN   \n",
       "9              40.009096            1547.234602           NaN   \n",
       "\n",
       "   10d Moving Average  10d Rolling Volatility  10d Quarter Upper Band  \\\n",
       "0                 NaN                     NaN                     NaN   \n",
       "1                 NaN                     NaN                     NaN   \n",
       "2                 NaN                     NaN                     NaN   \n",
       "3                 NaN                     NaN                     NaN   \n",
       "4                 NaN                     NaN                     NaN   \n",
       "5                 NaN                     NaN                     NaN   \n",
       "6                 NaN                     NaN                     NaN   \n",
       "7                 NaN                     NaN                     NaN   \n",
       "8                 NaN                     NaN                     NaN   \n",
       "9         1486.937048               50.814307             1512.344202   \n",
       "\n",
       "   20d Momentum  20d Moving Average  20d Rolling Volatility  \\\n",
       "0           NaN                 NaN                     NaN   \n",
       "1           NaN                 NaN                     NaN   \n",
       "2           NaN                 NaN                     NaN   \n",
       "3           NaN                 NaN                     NaN   \n",
       "4           NaN                 NaN                     NaN   \n",
       "5           NaN                 NaN                     NaN   \n",
       "6           NaN                 NaN                     NaN   \n",
       "7           NaN                 NaN                     NaN   \n",
       "8           NaN                 NaN                     NaN   \n",
       "9           NaN                 NaN                     NaN   \n",
       "\n",
       "   20d Quarter Upper Band  \n",
       "0                     NaN  \n",
       "1                     NaN  \n",
       "2                     NaN  \n",
       "3                     NaN  \n",
       "4                     NaN  \n",
       "5                     NaN  \n",
       "6                     NaN  \n",
       "7                     NaN  \n",
       "8                     NaN  \n",
       "9                     NaN  "
      ]
     },
     "execution_count": 4,
     "metadata": {},
     "output_type": "execute_result"
    }
   ],
   "source": [
    "csu.head(10)"
   ]
  },
  {
   "cell_type": "markdown",
   "id": "9d8fa04a-9295-4565-8fa5-178547e1c7b4",
   "metadata": {},
   "source": [
    "The NaN values are due to lack of information from the 5, 10, and 20 day windows"
   ]
  },
  {
   "cell_type": "markdown",
   "id": "73e57498-3c9b-43e0-bd8e-66cf2cda1bfc",
   "metadata": {},
   "source": [
    "A positive return is defined by the sign of `Log Returns` features. However, we will give the bottom 25% positive returns a negative label and consider more substantial returns. To calculate the relevant positive returns, we calculate the first quartile"
   ]
  },
  {
   "cell_type": "code",
   "execution_count": 5,
   "id": "f9eecd9d-9bb8-40f4-89bc-e4010d6044b6",
   "metadata": {},
   "outputs": [
    {
     "name": "stdout",
     "output_type": "stream",
     "text": [
      "0.004747566748647665\n"
     ]
    }
   ],
   "source": [
    "quantile_25 = csu[csu[\"Log Returns\"] > 0][\"Log Returns\"].quantile(0.25)\n",
    "print(quantile_25)"
   ]
  },
  {
   "cell_type": "markdown",
   "id": "a057f8f2-02db-45f7-8b59-9997b0ebe547",
   "metadata": {},
   "source": [
    "We then assign the label and create a new `Movement` column for the DataFrame, which represents an upwards move `1` or a downwards move `0`. "
   ]
  },
  {
   "cell_type": "code",
   "execution_count": 6,
   "id": "27073463-1d4e-46e6-8daa-b0e89e118167",
   "metadata": {},
   "outputs": [],
   "source": [
    "y = np.where(csu[\"Log Returns\"].shift(-1) > quantile_25, 1, 0)\n",
    "csu[\"Movement\"] = y"
   ]
  },
  {
   "cell_type": "markdown",
   "id": "30b50aea-b3ae-4ecf-8aa6-909839539237",
   "metadata": {},
   "source": [
    "At this point, we have completed the DataFrame and can drop the NaN values"
   ]
  },
  {
   "cell_type": "code",
   "execution_count": 7,
   "id": "fd48c7d0-0462-403c-aa6d-542af272fd11",
   "metadata": {},
   "outputs": [],
   "source": [
    "csu = csu.dropna()\n",
    "y = csu[\"Movement\"].values"
   ]
  },
  {
   "cell_type": "markdown",
   "id": "7323a231-c25c-4f5a-b9f7-be2dd3ff96cd",
   "metadata": {},
   "source": [
    "### Feature selection"
   ]
  },
  {
   "cell_type": "markdown",
   "id": "76ef708a-e35b-49ad-a0fb-0fce71a163be",
   "metadata": {},
   "source": [
    "Let us import several functions from `scikit-learn`."
   ]
  },
  {
   "cell_type": "code",
   "execution_count": 53,
   "id": "7a9955ca-6323-4ac6-a8ec-0598be371599",
   "metadata": {},
   "outputs": [],
   "source": [
    "from sklearn.preprocessing import StandardScaler\n",
    "from sklearn.pipeline import Pipeline\n",
    "from sklearn.ensemble import GradientBoostingClassifier\n",
    "from sklearn.model_selection import (train_test_split, GridSearchCV, TimeSeriesSplit)\n",
    "from sklearn.metrics import (accuracy_score, recall_score, f1_score, log_loss, RocCurveDisplay, ConfusionMatrixDisplay, classification_report, confusion_matrix)\n",
    "from sklearn.feature_selection import SelectKBest, f_regression"
   ]
  },
  {
   "cell_type": "markdown",
   "id": "6765d79d-f8a4-4171-b112-8a37216cd342",
   "metadata": {},
   "source": [
    "#### Variance Inflation Factor"
   ]
  },
  {
   "cell_type": "markdown",
   "id": "a2c8d1c9-5c5f-4295-9f37-a0734476b615",
   "metadata": {},
   "source": [
    "We use the funnelling scheme to select features. We start by checking for multicollinearity using the variance inflation factor, as shown in the exercise sheet from the Supervised Learning I lecture in module 4. We import the `variance_inflation_factor` functionality from `statsmodels`. "
   ]
  },
  {
   "cell_type": "code",
   "execution_count": 12,
   "id": "0851b04d-0d07-4e61-8c7b-c38d4febc610",
   "metadata": {},
   "outputs": [],
   "source": [
    "from statsmodels.stats.outliers_influence import variance_inflation_factor"
   ]
  },
  {
   "cell_type": "markdown",
   "id": "f3473522-4800-4561-9e6e-7d371897b5c0",
   "metadata": {},
   "source": [
    "We make use of the function provided in the exercise sheet"
   ]
  },
  {
   "cell_type": "code",
   "execution_count": 13,
   "id": "04d6d713-acc8-4c64-926d-55885beb449f",
   "metadata": {},
   "outputs": [],
   "source": [
    "scaler= StandardScaler()\n",
    "\n",
    "def vif(X):\n",
    "    xs = scaler.fit_transform(X)\n",
    "    vif = pd.DataFrame()\n",
    "    vif[\"Features\"] = X.columns\n",
    "    vif[\"VIF Factor\"] = [variance_inflation_factor(xs, i) for i in range(xs.shape[1])]\n",
    "    return vif"
   ]
  },
  {
   "cell_type": "markdown",
   "id": "076c7404-4f37-4cca-aa49-db1c3df61ae3",
   "metadata": {},
   "source": [
    "Let us store the DataFrame of features in an dataframe `X_df`"
   ]
  },
  {
   "cell_type": "code",
   "execution_count": 14,
   "id": "e0351d45-1b4a-4446-833a-436500d45815",
   "metadata": {},
   "outputs": [],
   "source": [
    "X_df = csu.drop('Movement', axis=1)"
   ]
  },
  {
   "cell_type": "markdown",
   "id": "14b6110e-5162-4623-a8e8-e7f35226e356",
   "metadata": {},
   "source": [
    "For $d = 5$, we oberve the following correlations"
   ]
  },
  {
   "cell_type": "code",
   "execution_count": 15,
   "id": "b49a13d9-fbaa-4875-b541-f11c343d2a29",
   "metadata": {},
   "outputs": [
    {
     "data": {
      "text/html": [
       "<div>\n",
       "<style scoped>\n",
       "    .dataframe tbody tr th:only-of-type {\n",
       "        vertical-align: middle;\n",
       "    }\n",
       "\n",
       "    .dataframe tbody tr th {\n",
       "        vertical-align: top;\n",
       "    }\n",
       "\n",
       "    .dataframe thead th {\n",
       "        text-align: right;\n",
       "    }\n",
       "</style>\n",
       "<table border=\"1\" class=\"dataframe\">\n",
       "  <thead>\n",
       "    <tr style=\"text-align: right;\">\n",
       "      <th></th>\n",
       "      <th>Features</th>\n",
       "      <th>VIF Factor</th>\n",
       "    </tr>\n",
       "  </thead>\n",
       "  <tbody>\n",
       "    <tr>\n",
       "      <th>0</th>\n",
       "      <td>Open</td>\n",
       "      <td>9513.938279</td>\n",
       "    </tr>\n",
       "    <tr>\n",
       "      <th>1</th>\n",
       "      <td>High</td>\n",
       "      <td>7936.972153</td>\n",
       "    </tr>\n",
       "    <tr>\n",
       "      <th>2</th>\n",
       "      <td>Volume</td>\n",
       "      <td>1.098733</td>\n",
       "    </tr>\n",
       "    <tr>\n",
       "      <th>3</th>\n",
       "      <td>Log Returns</td>\n",
       "      <td>3.088145</td>\n",
       "    </tr>\n",
       "    <tr>\n",
       "      <th>4</th>\n",
       "      <td>High-Low</td>\n",
       "      <td>4.623982</td>\n",
       "    </tr>\n",
       "    <tr>\n",
       "      <th>5</th>\n",
       "      <td>Open-Close</td>\n",
       "      <td>11.786345</td>\n",
       "    </tr>\n",
       "    <tr>\n",
       "      <th>6</th>\n",
       "      <td>5d Momentum</td>\n",
       "      <td>3.010682</td>\n",
       "    </tr>\n",
       "    <tr>\n",
       "      <th>7</th>\n",
       "      <td>5d Moving Average</td>\n",
       "      <td>2837.989306</td>\n",
       "    </tr>\n",
       "    <tr>\n",
       "      <th>8</th>\n",
       "      <td>5d Rolling Volatility</td>\n",
       "      <td>1.961465</td>\n",
       "    </tr>\n",
       "  </tbody>\n",
       "</table>\n",
       "</div>"
      ],
      "text/plain": [
       "                Features   VIF Factor\n",
       "0                   Open  9513.938279\n",
       "1                   High  7936.972153\n",
       "2                 Volume     1.098733\n",
       "3            Log Returns     3.088145\n",
       "4               High-Low     4.623982\n",
       "5             Open-Close    11.786345\n",
       "6            5d Momentum     3.010682\n",
       "7      5d Moving Average  2837.989306\n",
       "8  5d Rolling Volatility     1.961465"
      ]
     },
     "execution_count": 15,
     "metadata": {},
     "output_type": "execute_result"
    }
   ],
   "source": [
    "vif(X_df[[\"Open\", \"High\", \"Volume\", \"Log Returns\", \"High-Low\", \"Open-Close\", \"5d Momentum\", \"5d Moving Average\", \"5d Rolling Volatility\"]])"
   ]
  },
  {
   "cell_type": "markdown",
   "id": "216999a1-32e8-4266-b353-36535607e4d2",
   "metadata": {},
   "source": [
    "It is expected that `Open` and `High` are correlated with the moving average. We discard these features and calculate the VIF factors again for $d= 5, 10, 20$."
   ]
  },
  {
   "cell_type": "code",
   "execution_count": 16,
   "id": "ae5f4d17-235e-4503-b666-ddf27ffbabeb",
   "metadata": {},
   "outputs": [
    {
     "data": {
      "text/html": [
       "<div>\n",
       "<style scoped>\n",
       "    .dataframe tbody tr th:only-of-type {\n",
       "        vertical-align: middle;\n",
       "    }\n",
       "\n",
       "    .dataframe tbody tr th {\n",
       "        vertical-align: top;\n",
       "    }\n",
       "\n",
       "    .dataframe thead th {\n",
       "        text-align: right;\n",
       "    }\n",
       "</style>\n",
       "<table border=\"1\" class=\"dataframe\">\n",
       "  <thead>\n",
       "    <tr style=\"text-align: right;\">\n",
       "      <th></th>\n",
       "      <th>Features</th>\n",
       "      <th>VIF Factor</th>\n",
       "    </tr>\n",
       "  </thead>\n",
       "  <tbody>\n",
       "    <tr>\n",
       "      <th>0</th>\n",
       "      <td>Volume</td>\n",
       "      <td>1.096985</td>\n",
       "    </tr>\n",
       "    <tr>\n",
       "      <th>1</th>\n",
       "      <td>Log Returns</td>\n",
       "      <td>2.623314</td>\n",
       "    </tr>\n",
       "    <tr>\n",
       "      <th>2</th>\n",
       "      <td>High-Low</td>\n",
       "      <td>2.182529</td>\n",
       "    </tr>\n",
       "    <tr>\n",
       "      <th>3</th>\n",
       "      <td>Open-Close</td>\n",
       "      <td>2.612904</td>\n",
       "    </tr>\n",
       "    <tr>\n",
       "      <th>4</th>\n",
       "      <td>5d Momentum</td>\n",
       "      <td>1.265990</td>\n",
       "    </tr>\n",
       "    <tr>\n",
       "      <th>5</th>\n",
       "      <td>5d Moving Average</td>\n",
       "      <td>1.778037</td>\n",
       "    </tr>\n",
       "    <tr>\n",
       "      <th>6</th>\n",
       "      <td>5d Rolling Volatility</td>\n",
       "      <td>1.939405</td>\n",
       "    </tr>\n",
       "  </tbody>\n",
       "</table>\n",
       "</div>"
      ],
      "text/plain": [
       "                Features  VIF Factor\n",
       "0                 Volume    1.096985\n",
       "1            Log Returns    2.623314\n",
       "2               High-Low    2.182529\n",
       "3             Open-Close    2.612904\n",
       "4            5d Momentum    1.265990\n",
       "5      5d Moving Average    1.778037\n",
       "6  5d Rolling Volatility    1.939405"
      ]
     },
     "execution_count": 16,
     "metadata": {},
     "output_type": "execute_result"
    }
   ],
   "source": [
    "vif(X_df[[\"Volume\", \"Log Returns\", \"High-Low\", \"Open-Close\", \"5d Momentum\", \"5d Moving Average\", \"5d Rolling Volatility\"]])"
   ]
  },
  {
   "cell_type": "code",
   "execution_count": 17,
   "id": "6b5f1391-d648-461e-806b-59be32887e54",
   "metadata": {},
   "outputs": [
    {
     "data": {
      "text/html": [
       "<div>\n",
       "<style scoped>\n",
       "    .dataframe tbody tr th:only-of-type {\n",
       "        vertical-align: middle;\n",
       "    }\n",
       "\n",
       "    .dataframe tbody tr th {\n",
       "        vertical-align: top;\n",
       "    }\n",
       "\n",
       "    .dataframe thead th {\n",
       "        text-align: right;\n",
       "    }\n",
       "</style>\n",
       "<table border=\"1\" class=\"dataframe\">\n",
       "  <thead>\n",
       "    <tr style=\"text-align: right;\">\n",
       "      <th></th>\n",
       "      <th>Features</th>\n",
       "      <th>VIF Factor</th>\n",
       "    </tr>\n",
       "  </thead>\n",
       "  <tbody>\n",
       "    <tr>\n",
       "      <th>0</th>\n",
       "      <td>Volume</td>\n",
       "      <td>1.099393</td>\n",
       "    </tr>\n",
       "    <tr>\n",
       "      <th>1</th>\n",
       "      <td>Log Returns</td>\n",
       "      <td>2.574904</td>\n",
       "    </tr>\n",
       "    <tr>\n",
       "      <th>2</th>\n",
       "      <td>High-Low</td>\n",
       "      <td>1.853172</td>\n",
       "    </tr>\n",
       "    <tr>\n",
       "      <th>3</th>\n",
       "      <td>Open-Close</td>\n",
       "      <td>2.599055</td>\n",
       "    </tr>\n",
       "    <tr>\n",
       "      <th>4</th>\n",
       "      <td>10d Momentum</td>\n",
       "      <td>1.195735</td>\n",
       "    </tr>\n",
       "    <tr>\n",
       "      <th>5</th>\n",
       "      <td>10d Moving Average</td>\n",
       "      <td>1.997680</td>\n",
       "    </tr>\n",
       "    <tr>\n",
       "      <th>6</th>\n",
       "      <td>10d Rolling Volatility</td>\n",
       "      <td>1.848624</td>\n",
       "    </tr>\n",
       "  </tbody>\n",
       "</table>\n",
       "</div>"
      ],
      "text/plain": [
       "                 Features  VIF Factor\n",
       "0                  Volume    1.099393\n",
       "1             Log Returns    2.574904\n",
       "2                High-Low    1.853172\n",
       "3              Open-Close    2.599055\n",
       "4            10d Momentum    1.195735\n",
       "5      10d Moving Average    1.997680\n",
       "6  10d Rolling Volatility    1.848624"
      ]
     },
     "execution_count": 17,
     "metadata": {},
     "output_type": "execute_result"
    }
   ],
   "source": [
    "vif(X_df[[\"Volume\", \"Log Returns\", \"High-Low\", \"Open-Close\", \"10d Momentum\", \"10d Moving Average\", \"10d Rolling Volatility\"]])"
   ]
  },
  {
   "cell_type": "code",
   "execution_count": 18,
   "id": "4b72dbe8-3feb-410c-abe0-4503984bacc1",
   "metadata": {},
   "outputs": [
    {
     "data": {
      "text/html": [
       "<div>\n",
       "<style scoped>\n",
       "    .dataframe tbody tr th:only-of-type {\n",
       "        vertical-align: middle;\n",
       "    }\n",
       "\n",
       "    .dataframe tbody tr th {\n",
       "        vertical-align: top;\n",
       "    }\n",
       "\n",
       "    .dataframe thead th {\n",
       "        text-align: right;\n",
       "    }\n",
       "</style>\n",
       "<table border=\"1\" class=\"dataframe\">\n",
       "  <thead>\n",
       "    <tr style=\"text-align: right;\">\n",
       "      <th></th>\n",
       "      <th>Features</th>\n",
       "      <th>VIF Factor</th>\n",
       "    </tr>\n",
       "  </thead>\n",
       "  <tbody>\n",
       "    <tr>\n",
       "      <th>0</th>\n",
       "      <td>Volume</td>\n",
       "      <td>1.096819</td>\n",
       "    </tr>\n",
       "    <tr>\n",
       "      <th>1</th>\n",
       "      <td>Log Returns</td>\n",
       "      <td>2.556840</td>\n",
       "    </tr>\n",
       "    <tr>\n",
       "      <th>2</th>\n",
       "      <td>High-Low</td>\n",
       "      <td>1.756555</td>\n",
       "    </tr>\n",
       "    <tr>\n",
       "      <th>3</th>\n",
       "      <td>Open-Close</td>\n",
       "      <td>2.577395</td>\n",
       "    </tr>\n",
       "    <tr>\n",
       "      <th>4</th>\n",
       "      <td>20d Momentum</td>\n",
       "      <td>1.346292</td>\n",
       "    </tr>\n",
       "    <tr>\n",
       "      <th>5</th>\n",
       "      <td>20d Moving Average</td>\n",
       "      <td>2.251315</td>\n",
       "    </tr>\n",
       "    <tr>\n",
       "      <th>6</th>\n",
       "      <td>20d Rolling Volatility</td>\n",
       "      <td>2.115165</td>\n",
       "    </tr>\n",
       "  </tbody>\n",
       "</table>\n",
       "</div>"
      ],
      "text/plain": [
       "                 Features  VIF Factor\n",
       "0                  Volume    1.096819\n",
       "1             Log Returns    2.556840\n",
       "2                High-Low    1.756555\n",
       "3              Open-Close    2.577395\n",
       "4            20d Momentum    1.346292\n",
       "5      20d Moving Average    2.251315\n",
       "6  20d Rolling Volatility    2.115165"
      ]
     },
     "execution_count": 18,
     "metadata": {},
     "output_type": "execute_result"
    }
   ],
   "source": [
    "vif(X_df[[\"Volume\", \"Log Returns\", \"High-Low\", \"Open-Close\", \"20d Momentum\", \"20d Moving Average\", \"20d Rolling Volatility\"]])"
   ]
  },
  {
   "cell_type": "markdown",
   "id": "d19532a5-0746-4ad9-a645-0fc3acf6cad3",
   "metadata": {},
   "source": [
    "These VIF factor are more reasonable. We have narrowed down to fewer linearly dependent features."
   ]
  },
  {
   "cell_type": "markdown",
   "id": "c2501a3e-03e8-4203-9279-c7310b976d4a",
   "metadata": {},
   "source": [
    "#### Filter Method ANOVA"
   ]
  },
  {
   "cell_type": "markdown",
   "id": "7d971911-798d-497a-ba2e-14e45c1e5497",
   "metadata": {},
   "source": [
    "Let us apply `SelectKBest` to the short list of features. This is also drawn from the same Exercises sheet"
   ]
  },
  {
   "cell_type": "code",
   "execution_count": 19,
   "id": "b6a4ca11-6bd0-4fc8-9f02-fc3c367def8b",
   "metadata": {},
   "outputs": [
    {
     "name": "stdout",
     "output_type": "stream",
     "text": [
      "F-score: 1.201 for feature Volume\n",
      "F-score: 6.132 for feature Log Returns\n",
      "F-score: 0.2306 for feature High-Low\n",
      "F-score: 6.36 for feature Open-Close\n",
      "F-score: 1.725 for feature 5d Momentum\n",
      "F-score: 0.3748 for feature 5d Moving Average\n",
      "F-score: 0.1578 for feature 5d Rolling Volatility\n",
      "F-score: 2.296 for feature 10d Momentum\n",
      "F-score: 0.4087 for feature 10d Moving Average\n",
      "F-score: 2.774 for feature 10d Rolling Volatility\n",
      "F-score: 2.199 for feature 20d Momentum\n",
      "F-score: 0.4795 for feature 20d Moving Average\n",
      "F-score: 1.557 for feature 20d Rolling Volatility\n"
     ]
    }
   ],
   "source": [
    "X2_df = X_df[[\"Volume\", \"Log Returns\", \"High-Low\", \"Open-Close\", \"5d Momentum\", \"5d Moving Average\", \"5d Rolling Volatility\", \"10d Momentum\", \"10d Moving Average\", \"10d Rolling Volatility\", \"20d Momentum\", \"20d Moving Average\", \"20d Rolling Volatility\"]]\n",
    "X2 = X2_df.values\n",
    "\n",
    "skb = SelectKBest(f_regression, k=6)\n",
    "skb.fit(X2,y)\n",
    "\n",
    "for f, s in zip(X2_df.columns, skb.scores_):\n",
    "    print(f'F-score: {s:0.4} for feature {f}')"
   ]
  },
  {
   "cell_type": "markdown",
   "id": "9df6942b-8747-4cf2-bdaa-55d2f93d2fce",
   "metadata": {},
   "source": [
    "#### Recursive Feature Elimination"
   ]
  },
  {
   "cell_type": "markdown",
   "id": "2b7c1acc-0aad-4cce-91ca-0231e3c4b09c",
   "metadata": {},
   "source": [
    "We now implement the wrapper method Recursive Feature Elimination based on a Gradient Boosting Classifier"
   ]
  },
  {
   "cell_type": "code",
   "execution_count": 21,
   "id": "20543ea5-4f93-4e84-862f-164a9bb2a5c1",
   "metadata": {},
   "outputs": [],
   "source": [
    "from sklearn.feature_selection import RFE"
   ]
  },
  {
   "cell_type": "code",
   "execution_count": 22,
   "id": "32aab2c1-f6ad-4a62-bf3e-a877f59567aa",
   "metadata": {},
   "outputs": [
    {
     "data": {
      "text/plain": [
       "[('Volume', 1),\n",
       " ('Log Returns', 1),\n",
       " ('High-Low', 2),\n",
       " ('Open-Close', 3),\n",
       " ('5d Momentum', 4),\n",
       " ('5d Moving Average', 8),\n",
       " ('5d Rolling Volatility', 6),\n",
       " ('10d Momentum', 1),\n",
       " ('10d Moving Average', 7),\n",
       " ('10d Rolling Volatility', 1),\n",
       " ('20d Momentum', 1),\n",
       " ('20d Moving Average', 5),\n",
       " ('20d Rolling Volatility', 1)]"
      ]
     },
     "execution_count": 22,
     "metadata": {},
     "output_type": "execute_result"
    }
   ],
   "source": [
    "rfe = RFE(GradientBoostingClassifier(max_depth = 3), n_features_to_select = 6, step = 1)\n",
    "\n",
    "rfe.fit(X2, y)\n",
    "\n",
    "list(zip(X2_df.columns, rfe.ranking_))"
   ]
  },
  {
   "cell_type": "markdown",
   "id": "4a740eef-c770-4a8e-bd0e-edb8089a8a13",
   "metadata": {},
   "source": [
    "We keep the 10 day momentum and volatility, given their high scores in ANOVA AND RFE. We also keep Volume, Log Returns, High - Low, and Open- Close."
   ]
  },
  {
   "cell_type": "markdown",
   "id": "1a7e8fdf-59ad-48c8-88ff-a3c5bd377f25",
   "metadata": {},
   "source": [
    "#### Feature Importance"
   ]
  },
  {
   "cell_type": "markdown",
   "id": "69785732-1531-4e0a-8160-d165a950a34e",
   "metadata": {},
   "source": [
    "Finally, we validate the result with an embedded method and calculate Feature Importance for the six selected features. First, we scale the features"
   ]
  },
  {
   "cell_type": "code",
   "execution_count": 40,
   "id": "1452f043-bd6f-4206-be39-a1890dbd55cf",
   "metadata": {},
   "outputs": [],
   "source": [
    "X3_df = X_df[[\"Volume\", \"Log Returns\", \"High-Low\", \"Open-Close\", \"10d Momentum\", \"10d Rolling Volatility\"]]\n",
    "scaler = StandardScaler()\n",
    "X3 = X3_df.values\n",
    "X3 = scaler.fit_transform(X3)"
   ]
  },
  {
   "cell_type": "code",
   "execution_count": 140,
   "id": "d618072a-28ac-4210-9e4d-5f0c1f2d660e",
   "metadata": {},
   "outputs": [
    {
     "data": {
      "text/html": [
       "<div>\n",
       "<style scoped>\n",
       "    .dataframe tbody tr th:only-of-type {\n",
       "        vertical-align: middle;\n",
       "    }\n",
       "\n",
       "    .dataframe tbody tr th {\n",
       "        vertical-align: top;\n",
       "    }\n",
       "\n",
       "    .dataframe thead th {\n",
       "        text-align: right;\n",
       "    }\n",
       "</style>\n",
       "<table border=\"1\" class=\"dataframe\">\n",
       "  <thead>\n",
       "    <tr style=\"text-align: right;\">\n",
       "      <th></th>\n",
       "      <th>Volume</th>\n",
       "      <th>Log Returns</th>\n",
       "      <th>High-Low</th>\n",
       "      <th>Open-Close</th>\n",
       "      <th>10d Momentum</th>\n",
       "      <th>10d Rolling Volatility</th>\n",
       "      <th>Signal</th>\n",
       "    </tr>\n",
       "  </thead>\n",
       "  <tbody>\n",
       "    <tr>\n",
       "      <th>20</th>\n",
       "      <td>115500</td>\n",
       "      <td>-0.002242</td>\n",
       "      <td>27.841477</td>\n",
       "      <td>-13.732765</td>\n",
       "      <td>-98.038696</td>\n",
       "      <td>19.607984</td>\n",
       "      <td>1</td>\n",
       "    </tr>\n",
       "    <tr>\n",
       "      <th>21</th>\n",
       "      <td>58500</td>\n",
       "      <td>0.008250</td>\n",
       "      <td>30.154972</td>\n",
       "      <td>-23.857037</td>\n",
       "      <td>-14.000122</td>\n",
       "      <td>19.710163</td>\n",
       "      <td>0</td>\n",
       "    </tr>\n",
       "    <tr>\n",
       "      <th>22</th>\n",
       "      <td>53600</td>\n",
       "      <td>-0.021873</td>\n",
       "      <td>26.615519</td>\n",
       "      <td>9.511172</td>\n",
       "      <td>-57.126831</td>\n",
       "      <td>22.297274</td>\n",
       "      <td>0</td>\n",
       "    </tr>\n",
       "    <tr>\n",
       "      <th>23</th>\n",
       "      <td>46400</td>\n",
       "      <td>-0.007011</td>\n",
       "      <td>46.240826</td>\n",
       "      <td>28.642256</td>\n",
       "      <td>-93.035767</td>\n",
       "      <td>18.954984</td>\n",
       "      <td>1</td>\n",
       "    </tr>\n",
       "    <tr>\n",
       "      <th>24</th>\n",
       "      <td>44400</td>\n",
       "      <td>0.007295</td>\n",
       "      <td>77.691049</td>\n",
       "      <td>-20.376963</td>\n",
       "      <td>-40.091186</td>\n",
       "      <td>19.533380</td>\n",
       "      <td>1</td>\n",
       "    </tr>\n",
       "  </tbody>\n",
       "</table>\n",
       "</div>"
      ],
      "text/plain": [
       "    Volume  Log Returns   High-Low  Open-Close  10d Momentum  \\\n",
       "20  115500    -0.002242  27.841477  -13.732765    -98.038696   \n",
       "21   58500     0.008250  30.154972  -23.857037    -14.000122   \n",
       "22   53600    -0.021873  26.615519    9.511172    -57.126831   \n",
       "23   46400    -0.007011  46.240826   28.642256    -93.035767   \n",
       "24   44400     0.007295  77.691049  -20.376963    -40.091186   \n",
       "\n",
       "    10d Rolling Volatility  Signal  \n",
       "20               19.607984       1  \n",
       "21               19.710163       0  \n",
       "22               22.297274       0  \n",
       "23               18.954984       1  \n",
       "24               19.533380       1  "
      ]
     },
     "execution_count": 140,
     "metadata": {},
     "output_type": "execute_result"
    }
   ],
   "source": [
    "X3_df.head()"
   ]
  },
  {
   "cell_type": "code",
   "execution_count": 41,
   "id": "a3c0b8ce-5e0b-40b9-b552-1610b590c70f",
   "metadata": {},
   "outputs": [
    {
     "data": {
      "text/plain": [
       "[('Volume', 0.14646365815243),\n",
       " ('Log Returns', 0.1557901909782398),\n",
       " ('High-Low', 0.16913105251767055),\n",
       " ('Open-Close', 0.1509979990589756),\n",
       " ('10d Momentum', 0.24142374583445758),\n",
       " ('10d Rolling Volatility', 0.13619335345822642)]"
      ]
     },
     "execution_count": 41,
     "metadata": {},
     "output_type": "execute_result"
    }
   ],
   "source": [
    "X_train, X_test, y_train, y_test = train_test_split(X3, y, test_size = 0.2, shuffle = False)\n",
    "gbr = GradientBoostingClassifier(max_depth = 3)\n",
    "gbr.fit(X_train,y_train)\n",
    "list(zip(X3_df.columns, gbr.feature_importances_))"
   ]
  },
  {
   "cell_type": "markdown",
   "id": "457eae45-49fc-43bb-8834-376c1a34f9aa",
   "metadata": {},
   "source": [
    "## Model building, Tuning, and Evaluation"
   ]
  },
  {
   "cell_type": "markdown",
   "id": "90d83f03-0f35-4c96-923f-9df5ff2b6f1c",
   "metadata": {},
   "source": [
    "We can use the model built above as a toy example to get a sense of its predictive power"
   ]
  },
  {
   "cell_type": "code",
   "execution_count": 52,
   "id": "42311bce-54ec-490c-8377-bff828270194",
   "metadata": {
    "scrolled": true
   },
   "outputs": [
    {
     "name": "stdout",
     "output_type": "stream",
     "text": [
      "Train Recall: 0.5455, Test Recall: 0.2816\n"
     ]
    }
   ],
   "source": [
    "y_pred = gbr.predict(X_test)\n",
    "\n",
    "acc_train = recall_score(y_train, gbr.predict(X_train))\n",
    "acc_test = recall_score(y_test, y_pred)\n",
    "\n",
    "print(f'Train Recall: {acc_train:0.4}, Test Recall: {acc_test:0.4}')"
   ]
  },
  {
   "cell_type": "markdown",
   "id": "105cf16d-36fd-40fd-861f-d6fa4e654c65",
   "metadata": {},
   "source": [
    "Let us display the confusion matrix"
   ]
  },
  {
   "cell_type": "code",
   "execution_count": 54,
   "id": "7571ddfe-179c-4a03-9370-e5e0954bc444",
   "metadata": {},
   "outputs": [
    {
     "data": {
      "text/plain": [
       "<sklearn.metrics._plot.confusion_matrix.ConfusionMatrixDisplay at 0x7efe25ff0fb0>"
      ]
     },
     "execution_count": 54,
     "metadata": {},
     "output_type": "execute_result"
    },
    {
     "data": {
      "image/png": "[encoded data removed]",
      "text/plain": [
       "<Figure size 640x480 with 2 Axes>"
      ]
     },
     "metadata": {},
     "output_type": "display_data"
    }
   ],
   "source": [
    "ConfusionMatrixDisplay(confusion_matrix(y_test, y_pred)).plot()"
   ]
  },
  {
   "cell_type": "markdown",
   "id": "dd043099-06c5-409d-9e05-389b25a34b20",
   "metadata": {},
   "source": [
    "We plot the ROC curve as well."
   ]
  },
  {
   "cell_type": "code",
   "execution_count": 57,
   "id": "cf7c85c7-5414-4e9a-96ed-0e8c18994a43",
   "metadata": {},
   "outputs": [
    {
     "data": {
      "image/png": "[encoded data removed]",
      "text/plain": [
       "<Figure size 640x480 with 1 Axes>"
      ]
     },
     "metadata": {},
     "output_type": "display_data"
    }
   ],
   "source": [
    "from sklearn.metrics import roc_curve, auc, RocCurveDisplay\n",
    "\n",
    "y_proba = gbr.predict_proba(X_test)[:, 1]\n",
    "\n",
    "fpr, tpr, thresholds = roc_curve(y_test, y_proba)\n",
    "roc_auc = auc(fpr, tpr)\n",
    "\n",
    "plt.figure()\n",
    "plt.plot(fpr, tpr, label=f\"ROC Curve (AUC = {roc_auc:.2f})\")\n",
    "plt.plot([0, 1], [0, 1], linestyle=\"--\", color=\"gray\")\n",
    "plt.xlabel(\"False Positive Rate\")\n",
    "plt.ylabel(\"True Positive Rate\")\n",
    "plt.title(\"ROC Curve - Gradient Boosting Model\")\n",
    "plt.legend(loc=\"lower right\")\n",
    "plt.grid()\n",
    "plt.show()"
   ]
  },
  {
   "cell_type": "markdown",
   "id": "edbe4d6a-ed9b-4688-ae88-e43335162db8",
   "metadata": {},
   "source": [
    "And finally, a classification report. See the attached report for an extended discussion on these results."
   ]
  },
  {
   "cell_type": "code",
   "execution_count": 46,
   "id": "e6ed11b3-d695-4d98-883b-4ba1015b519a",
   "metadata": {},
   "outputs": [
    {
     "name": "stdout",
     "output_type": "stream",
     "text": [
      "              precision    recall  f1-score   support\n",
      "\n",
      "           0       0.59      0.73      0.65       144\n",
      "           1       0.43      0.28      0.34       103\n",
      "\n",
      "    accuracy                           0.54       247\n",
      "   macro avg       0.51      0.51      0.49       247\n",
      "weighted avg       0.52      0.54      0.52       247\n",
      "\n"
     ]
    }
   ],
   "source": [
    "print(classification_report(y_test, y_pred))"
   ]
  },
  {
   "cell_type": "markdown",
   "id": "de4f2eb5-3866-4406-a7b3-7a573b9ff01a",
   "metadata": {},
   "source": [
    "### Hyperparameter Tuning"
   ]
  },
  {
   "cell_type": "markdown",
   "id": "b4c27498-90d9-4c9f-84d1-e451aad998b2",
   "metadata": {},
   "source": [
    "As seen in the Python labs, we split the time series to cross-validate and perform a grid search to look for the parameters that yield the highest recall."
   ]
  },
  {
   "cell_type": "code",
   "execution_count": 59,
   "id": "638e15d2-b94e-4408-b7f7-660245b15031",
   "metadata": {},
   "outputs": [
    {
     "name": "stdout",
     "output_type": "stream",
     "text": [
      "Fitting 5 folds for each of 150 candidates, totalling 750 fits\n"
     ]
    },
    {
     "data": {
      "text/html": [
       "<style>#sk-container-id-2 {\n",
       "  /* Definition of color scheme common for light and dark mode */\n",
       "  --sklearn-color-text: black;\n",
       "  --sklearn-color-line: gray;\n",
       "  /* Definition of color scheme for unfitted estimators */\n",
       "  --sklearn-color-unfitted-level-0: #fff5e6;\n",
       "  --sklearn-color-unfitted-level-1: #f6e4d2;\n",
       "  --sklearn-color-unfitted-level-2: #ffe0b3;\n",
       "  --sklearn-color-unfitted-level-3: chocolate;\n",
       "  /* Definition of color scheme for fitted estimators */\n",
       "  --sklearn-color-fitted-level-0: #f0f8ff;\n",
       "  --sklearn-color-fitted-level-1: #d4ebff;\n",
       "  --sklearn-color-fitted-level-2: #b3dbfd;\n",
       "  --sklearn-color-fitted-level-3: cornflowerblue;\n",
       "\n",
       "  /* Specific color for light theme */\n",
       "  --sklearn-color-text-on-default-background: var(--sg-text-color, var(--theme-code-foreground, var(--jp-content-font-color1, black)));\n",
       "  --sklearn-color-background: var(--sg-background-color, var(--theme-background, var(--jp-layout-color0, white)));\n",
       "  --sklearn-color-border-box: var(--sg-text-color, var(--theme-code-foreground, var(--jp-content-font-color1, black)));\n",
       "  --sklearn-color-icon: #696969;\n",
       "\n",
       "  @media (prefers-color-scheme: dark) {\n",
       "    /* Redefinition of color scheme for dark theme */\n",
       "    --sklearn-color-text-on-default-background: var(--sg-text-color, var(--theme-code-foreground, var(--jp-content-font-color1, white)));\n",
       "    --sklearn-color-background: var(--sg-background-color, var(--theme-background, var(--jp-layout-color0, #111)));\n",
       "    --sklearn-color-border-box: var(--sg-text-color, var(--theme-code-foreground, var(--jp-content-font-color1, white)));\n",
       "    --sklearn-color-icon: #878787;\n",
       "  }\n",
       "}\n",
       "\n",
       "#sk-container-id-2 {\n",
       "  color: var(--sklearn-color-text);\n",
       "}\n",
       "\n",
       "#sk-container-id-2 pre {\n",
       "  padding: 0;\n",
       "}\n",
       "\n",
       "#sk-container-id-2 input.sk-hidden--visually {\n",
       "  border: 0;\n",
       "  clip: rect(1px 1px 1px 1px);\n",
       "  clip: rect(1px, 1px, 1px, 1px);\n",
       "  height: 1px;\n",
       "  margin: -1px;\n",
       "  overflow: hidden;\n",
       "  padding: 0;\n",
       "  position: absolute;\n",
       "  width: 1px;\n",
       "}\n",
       "\n",
       "#sk-container-id-2 div.sk-dashed-wrapped {\n",
       "  border: 1px dashed var(--sklearn-color-line);\n",
       "  margin: 0 0.4em 0.5em 0.4em;\n",
       "  box-sizing: border-box;\n",
       "  padding-bottom: 0.4em;\n",
       "  background-color: var(--sklearn-color-background);\n",
       "}\n",
       "\n",
       "#sk-container-id-2 div.sk-container {\n",
       "  /* jupyter's `normalize.less` sets `[hidden] { display: none; }`\n",
       "     but bootstrap.min.css set `[hidden] { display: none !important; }`\n",
       "     so we also need the `!important` here to be able to override the\n",
       "     default hidden behavior on the sphinx rendered scikit-learn.org.\n",
       "     See: https://github.com/scikit-learn/scikit-learn/issues/21755 */\n",
       "  display: inline-block !important;\n",
       "  position: relative;\n",
       "}\n",
       "\n",
       "#sk-container-id-2 div.sk-text-repr-fallback {\n",
       "  display: none;\n",
       "}\n",
       "\n",
       "div.sk-parallel-item,\n",
       "div.sk-serial,\n",
       "div.sk-item {\n",
       "  /* draw centered vertical line to link estimators */\n",
       "  background-image: linear-gradient(var(--sklearn-color-text-on-default-background), var(--sklearn-color-text-on-default-background));\n",
       "  background-size: 2px 100%;\n",
       "  background-repeat: no-repeat;\n",
       "  background-position: center center;\n",
       "}\n",
       "\n",
       "/* Parallel-specific style estimator block */\n",
       "\n",
       "#sk-container-id-2 div.sk-parallel-item::after {\n",
       "  content: \"\";\n",
       "  width: 100%;\n",
       "  border-bottom: 2px solid var(--sklearn-color-text-on-default-background);\n",
       "  flex-grow: 1;\n",
       "}\n",
       "\n",
       "#sk-container-id-2 div.sk-parallel {\n",
       "  display: flex;\n",
       "  align-items: stretch;\n",
       "  justify-content: center;\n",
       "  background-color: var(--sklearn-color-background);\n",
       "  position: relative;\n",
       "}\n",
       "\n",
       "#sk-container-id-2 div.sk-parallel-item {\n",
       "  display: flex;\n",
       "  flex-direction: column;\n",
       "}\n",
       "\n",
       "#sk-container-id-2 div.sk-parallel-item:first-child::after {\n",
       "  align-self: flex-end;\n",
       "  width: 50%;\n",
       "}\n",
       "\n",
       "#sk-container-id-2 div.sk-parallel-item:last-child::after {\n",
       "  align-self: flex-start;\n",
       "  width: 50%;\n",
       "}\n",
       "\n",
       "#sk-container-id-2 div.sk-parallel-item:only-child::after {\n",
       "  width: 0;\n",
       "}\n",
       "\n",
       "/* Serial-specific style estimator block */\n",
       "\n",
       "#sk-container-id-2 div.sk-serial {\n",
       "  display: flex;\n",
       "  flex-direction: column;\n",
       "  align-items: center;\n",
       "  background-color: var(--sklearn-color-background);\n",
       "  padding-right: 1em;\n",
       "  padding-left: 1em;\n",
       "}\n",
       "\n",
       "\n",
       "/* Toggleable style: style used for estimator/Pipeline/ColumnTransformer box that is\n",
       "clickable and can be expanded/collapsed.\n",
       "- Pipeline and ColumnTransformer use this feature and define the default style\n",
       "- Estimators will overwrite some part of the style using the `sk-estimator` class\n",
       "*/\n",
       "\n",
       "/* Pipeline and ColumnTransformer style (default) */\n",
       "\n",
       "#sk-container-id-2 div.sk-toggleable {\n",
       "  /* Default theme specific background. It is overwritten whether we have a\n",
       "  specific estimator or a Pipeline/ColumnTransformer */\n",
       "  background-color: var(--sklearn-color-background);\n",
       "}\n",
       "\n",
       "/* Toggleable label */\n",
       "#sk-container-id-2 label.sk-toggleable__label {\n",
       "  cursor: pointer;\n",
       "  display: block;\n",
       "  width: 100%;\n",
       "  margin-bottom: 0;\n",
       "  padding: 0.5em;\n",
       "  box-sizing: border-box;\n",
       "  text-align: center;\n",
       "}\n",
       "\n",
       "#sk-container-id-2 label.sk-toggleable__label-arrow:before {\n",
       "  /* Arrow on the left of the label */\n",
       "  content: \"▸\";\n",
       "  float: left;\n",
       "  margin-right: 0.25em;\n",
       "  color: var(--sklearn-color-icon);\n",
       "}\n",
       "\n",
       "#sk-container-id-2 label.sk-toggleable__label-arrow:hover:before {\n",
       "  color: var(--sklearn-color-text);\n",
       "}\n",
       "\n",
       "/* Toggleable content - dropdown */\n",
       "\n",
       "#sk-container-id-2 div.sk-toggleable__content {\n",
       "  max-height: 0;\n",
       "  max-width: 0;\n",
       "  overflow: hidden;\n",
       "  text-align: left;\n",
       "  /* unfitted */\n",
       "  background-color: var(--sklearn-color-unfitted-level-0);\n",
       "}\n",
       "\n",
       "#sk-container-id-2 div.sk-toggleable__content.fitted {\n",
       "  /* fitted */\n",
       "  background-color: var(--sklearn-color-fitted-level-0);\n",
       "}\n",
       "\n",
       "#sk-container-id-2 div.sk-toggleable__content pre {\n",
       "  margin: 0.2em;\n",
       "  border-radius: 0.25em;\n",
       "  color: var(--sklearn-color-text);\n",
       "  /* unfitted */\n",
       "  background-color: var(--sklearn-color-unfitted-level-0);\n",
       "}\n",
       "\n",
       "#sk-container-id-2 div.sk-toggleable__content.fitted pre {\n",
       "  /* unfitted */\n",
       "  background-color: var(--sklearn-color-fitted-level-0);\n",
       "}\n",
       "\n",
       "#sk-container-id-2 input.sk-toggleable__control:checked~div.sk-toggleable__content {\n",
       "  /* Expand drop-down */\n",
       "  max-height: 200px;\n",
       "  max-width: 100%;\n",
       "  overflow: auto;\n",
       "}\n",
       "\n",
       "#sk-container-id-2 input.sk-toggleable__control:checked~label.sk-toggleable__label-arrow:before {\n",
       "  content: \"▾\";\n",
       "}\n",
       "\n",
       "/* Pipeline/ColumnTransformer-specific style */\n",
       "\n",
       "#sk-container-id-2 div.sk-label input.sk-toggleable__control:checked~label.sk-toggleable__label {\n",
       "  color: var(--sklearn-color-text);\n",
       "  background-color: var(--sklearn-color-unfitted-level-2);\n",
       "}\n",
       "\n",
       "#sk-container-id-2 div.sk-label.fitted input.sk-toggleable__control:checked~label.sk-toggleable__label {\n",
       "  background-color: var(--sklearn-color-fitted-level-2);\n",
       "}\n",
       "\n",
       "/* Estimator-specific style */\n",
       "\n",
       "/* Colorize estimator box */\n",
       "#sk-container-id-2 div.sk-estimator input.sk-toggleable__control:checked~label.sk-toggleable__label {\n",
       "  /* unfitted */\n",
       "  background-color: var(--sklearn-color-unfitted-level-2);\n",
       "}\n",
       "\n",
       "#sk-container-id-2 div.sk-estimator.fitted input.sk-toggleable__control:checked~label.sk-toggleable__label {\n",
       "  /* fitted */\n",
       "  background-color: var(--sklearn-color-fitted-level-2);\n",
       "}\n",
       "\n",
       "#sk-container-id-2 div.sk-label label.sk-toggleable__label,\n",
       "#sk-container-id-2 div.sk-label label {\n",
       "  /* The background is the default theme color */\n",
       "  color: var(--sklearn-color-text-on-default-background);\n",
       "}\n",
       "\n",
       "/* On hover, darken the color of the background */\n",
       "#sk-container-id-2 div.sk-label:hover label.sk-toggleable__label {\n",
       "  color: var(--sklearn-color-text);\n",
       "  background-color: var(--sklearn-color-unfitted-level-2);\n",
       "}\n",
       "\n",
       "/* Label box, darken color on hover, fitted */\n",
       "#sk-container-id-2 div.sk-label.fitted:hover label.sk-toggleable__label.fitted {\n",
       "  color: var(--sklearn-color-text);\n",
       "  background-color: var(--sklearn-color-fitted-level-2);\n",
       "}\n",
       "\n",
       "/* Estimator label */\n",
       "\n",
       "#sk-container-id-2 div.sk-label label {\n",
       "  font-family: monospace;\n",
       "  font-weight: bold;\n",
       "  display: inline-block;\n",
       "  line-height: 1.2em;\n",
       "}\n",
       "\n",
       "#sk-container-id-2 div.sk-label-container {\n",
       "  text-align: center;\n",
       "}\n",
       "\n",
       "/* Estimator-specific */\n",
       "#sk-container-id-2 div.sk-estimator {\n",
       "  font-family: monospace;\n",
       "  border: 1px dotted var(--sklearn-color-border-box);\n",
       "  border-radius: 0.25em;\n",
       "  box-sizing: border-box;\n",
       "  margin-bottom: 0.5em;\n",
       "  /* unfitted */\n",
       "  background-color: var(--sklearn-color-unfitted-level-0);\n",
       "}\n",
       "\n",
       "#sk-container-id-2 div.sk-estimator.fitted {\n",
       "  /* fitted */\n",
       "  background-color: var(--sklearn-color-fitted-level-0);\n",
       "}\n",
       "\n",
       "/* on hover */\n",
       "#sk-container-id-2 div.sk-estimator:hover {\n",
       "  /* unfitted */\n",
       "  background-color: var(--sklearn-color-unfitted-level-2);\n",
       "}\n",
       "\n",
       "#sk-container-id-2 div.sk-estimator.fitted:hover {\n",
       "  /* fitted */\n",
       "  background-color: var(--sklearn-color-fitted-level-2);\n",
       "}\n",
       "\n",
       "/* Specification for estimator info (e.g. \"i\" and \"?\") */\n",
       "\n",
       "/* Common style for \"i\" and \"?\" */\n",
       "\n",
       ".sk-estimator-doc-link,\n",
       "a:link.sk-estimator-doc-link,\n",
       "a:visited.sk-estimator-doc-link {\n",
       "  float: right;\n",
       "  font-size: smaller;\n",
       "  line-height: 1em;\n",
       "  font-family: monospace;\n",
       "  background-color: var(--sklearn-color-background);\n",
       "  border-radius: 1em;\n",
       "  height: 1em;\n",
       "  width: 1em;\n",
       "  text-decoration: none !important;\n",
       "  margin-left: 1ex;\n",
       "  /* unfitted */\n",
       "  border: var(--sklearn-color-unfitted-level-1) 1pt solid;\n",
       "  color: var(--sklearn-color-unfitted-level-1);\n",
       "}\n",
       "\n",
       ".sk-estimator-doc-link.fitted,\n",
       "a:link.sk-estimator-doc-link.fitted,\n",
       "a:visited.sk-estimator-doc-link.fitted {\n",
       "  /* fitted */\n",
       "  border: var(--sklearn-color-fitted-level-1) 1pt solid;\n",
       "  color: var(--sklearn-color-fitted-level-1);\n",
       "}\n",
       "\n",
       "/* On hover */\n",
       "div.sk-estimator:hover .sk-estimator-doc-link:hover,\n",
       ".sk-estimator-doc-link:hover,\n",
       "div.sk-label-container:hover .sk-estimator-doc-link:hover,\n",
       ".sk-estimator-doc-link:hover {\n",
       "  /* unfitted */\n",
       "  background-color: var(--sklearn-color-unfitted-level-3);\n",
       "  color: var(--sklearn-color-background);\n",
       "  text-decoration: none;\n",
       "}\n",
       "\n",
       "div.sk-estimator.fitted:hover .sk-estimator-doc-link.fitted:hover,\n",
       ".sk-estimator-doc-link.fitted:hover,\n",
       "div.sk-label-container:hover .sk-estimator-doc-link.fitted:hover,\n",
       ".sk-estimator-doc-link.fitted:hover {\n",
       "  /* fitted */\n",
       "  background-color: var(--sklearn-color-fitted-level-3);\n",
       "  color: var(--sklearn-color-background);\n",
       "  text-decoration: none;\n",
       "}\n",
       "\n",
       "/* Span, style for the box shown on hovering the info icon */\n",
       ".sk-estimator-doc-link span {\n",
       "  display: none;\n",
       "  z-index: 9999;\n",
       "  position: relative;\n",
       "  font-weight: normal;\n",
       "  right: .2ex;\n",
       "  padding: .5ex;\n",
       "  margin: .5ex;\n",
       "  width: min-content;\n",
       "  min-width: 20ex;\n",
       "  max-width: 50ex;\n",
       "  color: var(--sklearn-color-text);\n",
       "  box-shadow: 2pt 2pt 4pt #999;\n",
       "  /* unfitted */\n",
       "  background: var(--sklearn-color-unfitted-level-0);\n",
       "  border: .5pt solid var(--sklearn-color-unfitted-level-3);\n",
       "}\n",
       "\n",
       ".sk-estimator-doc-link.fitted span {\n",
       "  /* fitted */\n",
       "  background: var(--sklearn-color-fitted-level-0);\n",
       "  border: var(--sklearn-color-fitted-level-3);\n",
       "}\n",
       "\n",
       ".sk-estimator-doc-link:hover span {\n",
       "  display: block;\n",
       "}\n",
       "\n",
       "/* \"?\"-specific style due to the `<a>` HTML tag */\n",
       "\n",
       "#sk-container-id-2 a.estimator_doc_link {\n",
       "  float: right;\n",
       "  font-size: 1rem;\n",
       "  line-height: 1em;\n",
       "  font-family: monospace;\n",
       "  background-color: var(--sklearn-color-background);\n",
       "  border-radius: 1rem;\n",
       "  height: 1rem;\n",
       "  width: 1rem;\n",
       "  text-decoration: none;\n",
       "  /* unfitted */\n",
       "  color: var(--sklearn-color-unfitted-level-1);\n",
       "  border: var(--sklearn-color-unfitted-level-1) 1pt solid;\n",
       "}\n",
       "\n",
       "#sk-container-id-2 a.estimator_doc_link.fitted {\n",
       "  /* fitted */\n",
       "  border: var(--sklearn-color-fitted-level-1) 1pt solid;\n",
       "  color: var(--sklearn-color-fitted-level-1);\n",
       "}\n",
       "\n",
       "/* On hover */\n",
       "#sk-container-id-2 a.estimator_doc_link:hover {\n",
       "  /* unfitted */\n",
       "  background-color: var(--sklearn-color-unfitted-level-3);\n",
       "  color: var(--sklearn-color-background);\n",
       "  text-decoration: none;\n",
       "}\n",
       "\n",
       "#sk-container-id-2 a.estimator_doc_link.fitted:hover {\n",
       "  /* fitted */\n",
       "  background-color: var(--sklearn-color-fitted-level-3);\n",
       "}\n",
       "</style><div id=\"sk-container-id-2\" class=\"sk-top-container\"><div class=\"sk-text-repr-fallback\"><pre>GridSearchCV(cv=TimeSeriesSplit(gap=1, max_train_size=None, n_splits=5, test_size=None),\n",
       "             estimator=GradientBoostingClassifier(), n_jobs=-1,\n",
       "             param_grid={&#x27;learning_rate&#x27;: [0.001, 0.01, 0.1, 0.2, 0.3, 0.4],\n",
       "                         &#x27;max_depth&#x27;: [2, 3, 4, 5, 6],\n",
       "                         &#x27;n_estimators&#x27;: [50, 100, 150, 200, 250]},\n",
       "             scoring=&#x27;recall&#x27;, verbose=1)</pre><b>In a Jupyter environment, please rerun this cell to show the HTML representation or trust the notebook. <br />On GitHub, the HTML representation is unable to render, please try loading this page with nbviewer.org.</b></div><div class=\"sk-container\" hidden><div class=\"sk-item sk-dashed-wrapped\"><div class=\"sk-label-container\"><div class=\"sk-label fitted sk-toggleable\"><input class=\"sk-toggleable__control sk-hidden--visually\" id=\"sk-estimator-id-4\" type=\"checkbox\" ><label for=\"sk-estimator-id-4\" class=\"sk-toggleable__label fitted sk-toggleable__label-arrow fitted\">&nbsp;&nbsp;GridSearchCV<a class=\"sk-estimator-doc-link fitted\" rel=\"noreferrer\" target=\"_blank\" href=\"https://scikit-learn.org/1.5/modules/generated/sklearn.model_selection.GridSearchCV.html\">?<span>Documentation for GridSearchCV</span></a><span class=\"sk-estimator-doc-link fitted\">i<span>Fitted</span></span></label><div class=\"sk-toggleable__content fitted\"><pre>GridSearchCV(cv=TimeSeriesSplit(gap=1, max_train_size=None, n_splits=5, test_size=None),\n",
       "             estimator=GradientBoostingClassifier(), n_jobs=-1,\n",
       "             param_grid={&#x27;learning_rate&#x27;: [0.001, 0.01, 0.1, 0.2, 0.3, 0.4],\n",
       "                         &#x27;max_depth&#x27;: [2, 3, 4, 5, 6],\n",
       "                         &#x27;n_estimators&#x27;: [50, 100, 150, 200, 250]},\n",
       "             scoring=&#x27;recall&#x27;, verbose=1)</pre></div> </div></div><div class=\"sk-parallel\"><div class=\"sk-parallel-item\"><div class=\"sk-item\"><div class=\"sk-label-container\"><div class=\"sk-label fitted sk-toggleable\"><input class=\"sk-toggleable__control sk-hidden--visually\" id=\"sk-estimator-id-5\" type=\"checkbox\" ><label for=\"sk-estimator-id-5\" class=\"sk-toggleable__label fitted sk-toggleable__label-arrow fitted\">best_estimator_: GradientBoostingClassifier</label><div class=\"sk-toggleable__content fitted\"><pre>GradientBoostingClassifier(learning_rate=0.4, n_estimators=50)</pre></div> </div></div><div class=\"sk-serial\"><div class=\"sk-item\"><div class=\"sk-estimator fitted sk-toggleable\"><input class=\"sk-toggleable__control sk-hidden--visually\" id=\"sk-estimator-id-6\" type=\"checkbox\" ><label for=\"sk-estimator-id-6\" class=\"sk-toggleable__label fitted sk-toggleable__label-arrow fitted\">&nbsp;GradientBoostingClassifier<a class=\"sk-estimator-doc-link fitted\" rel=\"noreferrer\" target=\"_blank\" href=\"https://scikit-learn.org/1.5/modules/generated/sklearn.ensemble.GradientBoostingClassifier.html\">?<span>Documentation for GradientBoostingClassifier</span></a></label><div class=\"sk-toggleable__content fitted\"><pre>GradientBoostingClassifier(learning_rate=0.4, n_estimators=50)</pre></div> </div></div></div></div></div></div></div></div></div>"
      ],
      "text/plain": [
       "GridSearchCV(cv=TimeSeriesSplit(gap=1, max_train_size=None, n_splits=5, test_size=None),\n",
       "             estimator=GradientBoostingClassifier(), n_jobs=-1,\n",
       "             param_grid={'learning_rate': [0.001, 0.01, 0.1, 0.2, 0.3, 0.4],\n",
       "                         'max_depth': [2, 3, 4, 5, 6],\n",
       "                         'n_estimators': [50, 100, 150, 200, 250]},\n",
       "             scoring='recall', verbose=1)"
      ]
     },
     "execution_count": 59,
     "metadata": {},
     "output_type": "execute_result"
    }
   ],
   "source": [
    "tscv = TimeSeriesSplit(n_splits=5, gap=1)\n",
    "\n",
    "param_grid = {'n_estimators': [50, 100, 150, 200, 250], 'learning_rate': [0.001, 0.01, 0.1, 0.2, 0.3, 0.4], 'max_depth': [2, 3, 4, 5, 6]}\n",
    "\n",
    "gbc = GradientBoostingClassifier()\n",
    "\n",
    "grid_search = GridSearchCV(estimator=gbc, param_grid=param_grid, cv=tscv, scoring='recall', n_jobs=-1, verbose = 1)\n",
    "\n",
    "grid_search.fit(X_train, y_train)"
   ]
  },
  {
   "cell_type": "markdown",
   "id": "e235fdbf-e55a-40f1-b0dc-845d70ce5341",
   "metadata": {},
   "source": [
    "The best parameters are found to be"
   ]
  },
  {
   "cell_type": "code",
   "execution_count": 67,
   "id": "f8547c1b-8ea0-4c2a-bbcc-2f7a035aa6e9",
   "metadata": {},
   "outputs": [
    {
     "name": "stdout",
     "output_type": "stream",
     "text": [
      "{'learning_rate': 0.4, 'max_depth': 3, 'n_estimators': 50}\n"
     ]
    }
   ],
   "source": [
    "best_params = grid_search.best_params_\n",
    "best_model = grid_search.best_estimator_\n",
    "print(best_params)"
   ]
  },
  {
   "cell_type": "markdown",
   "id": "49494099-2989-46fc-8d2f-ab75e6b67671",
   "metadata": {},
   "source": [
    "The best recall score achieved is"
   ]
  },
  {
   "cell_type": "code",
   "execution_count": 68,
   "id": "58b659e4-993d-4f10-af0f-d3461b30c6ac",
   "metadata": {},
   "outputs": [
    {
     "name": "stdout",
     "output_type": "stream",
     "text": [
      "0.34951456310679613\n"
     ]
    }
   ],
   "source": [
    "y_pred_best = best_model.predict(X_test)\n",
    "recall_best = recall_score(y_test, y_pred_best)\n",
    "print(recall_best)"
   ]
  },
  {
   "cell_type": "markdown",
   "id": "ab769b86-edc4-4061-a998-32d67bde7376",
   "metadata": {},
   "source": [
    "We plot the confusion matrix"
   ]
  },
  {
   "cell_type": "code",
   "execution_count": 64,
   "id": "64b8c9ad-e212-4899-8a84-998a2063d3b6",
   "metadata": {},
   "outputs": [
    {
     "data": {
      "text/plain": [
       "<sklearn.metrics._plot.confusion_matrix.ConfusionMatrixDisplay at 0x7efe25d785c0>"
      ]
     },
     "execution_count": 64,
     "metadata": {},
     "output_type": "execute_result"
    },
    {
     "data": {
      "image/png": "[encoded data removed]",
      "text/plain": [
       "<Figure size 640x480 with 2 Axes>"
      ]
     },
     "metadata": {},
     "output_type": "display_data"
    }
   ],
   "source": [
    "ConfusionMatrixDisplay(confusion_matrix(y_test, y_pred_best)).plot()"
   ]
  },
  {
   "cell_type": "markdown",
   "id": "5d7b26d8-69f1-478e-afce-5b1275ef04d0",
   "metadata": {},
   "source": [
    "We display the ROC curve and find the area under the curve"
   ]
  },
  {
   "cell_type": "code",
   "execution_count": 69,
   "id": "92e198c3-7c73-4b9c-a228-c1eb5da92207",
   "metadata": {},
   "outputs": [
    {
     "data": {
      "image/png": "[encoded data removed]",
      "text/plain": [
       "<Figure size 640x480 with 1 Axes>"
      ]
     },
     "metadata": {},
     "output_type": "display_data"
    }
   ],
   "source": [
    "from sklearn.metrics import roc_curve, auc, RocCurveDisplay\n",
    "\n",
    "y_proba = best_model.predict_proba(X_test)[:, 1]\n",
    "\n",
    "fpr, tpr, thresholds = roc_curve(y_test, y_proba)\n",
    "roc_auc = auc(fpr, tpr)\n",
    "\n",
    "plt.figure()\n",
    "plt.plot(fpr, tpr, label=f\"ROC Curve (AUC = {roc_auc:.2f})\")\n",
    "plt.plot([0, 1], [0, 1], linestyle=\"--\", color=\"gray\")\n",
    "plt.xlabel(\"False Positive Rate\")\n",
    "plt.ylabel(\"True Positive Rate\")\n",
    "plt.title(\"ROC Curve - Best Gradient Boosting Model\")\n",
    "plt.legend(loc=\"lower right\")\n",
    "plt.grid()\n",
    "plt.show()"
   ]
  },
  {
   "cell_type": "markdown",
   "id": "6d693a4a-e042-4cc6-a221-632ec9a104cf",
   "metadata": {},
   "source": [
    "And finally, we print a classification report."
   ]
  },
  {
   "cell_type": "code",
   "execution_count": 66,
   "id": "3bc973e2-c5fd-479d-838c-4cd034a0fa5f",
   "metadata": {},
   "outputs": [
    {
     "name": "stdout",
     "output_type": "stream",
     "text": [
      "              precision    recall  f1-score   support\n",
      "\n",
      "           0       0.60      0.69      0.64       144\n",
      "           1       0.45      0.35      0.39       103\n",
      "\n",
      "    accuracy                           0.55       247\n",
      "   macro avg       0.52      0.52      0.52       247\n",
      "weighted avg       0.54      0.55      0.54       247\n",
      "\n"
     ]
    }
   ],
   "source": [
    "print(classification_report(y_test, y_pred_best))"
   ]
  },
  {
   "cell_type": "markdown",
   "id": "ad0019d0-a87a-4457-8c2b-90e942fd2557",
   "metadata": {},
   "source": [
    "### Backtesting"
   ]
  },
  {
   "cell_type": "code",
   "execution_count": 71,
   "id": "8cc41d72-0f5c-4441-80db-97aaaa2129df",
   "metadata": {},
   "outputs": [],
   "source": [
    "csu[\"Signal\"] = best_model.predict(X3)"
   ]
  },
  {
   "cell_type": "code",
   "execution_count": 73,
   "id": "9b042879-8737-45b2-b4b5-78e874a60019",
   "metadata": {},
   "outputs": [],
   "source": [
    "latest_price = csu[\"Close\"].iloc[-1]"
   ]
  },
  {
   "cell_type": "code",
   "execution_count": 113,
   "id": "4c538754-5a30-45a3-a1d8-b163e8e52744",
   "metadata": {},
   "outputs": [],
   "source": [
    "csu[\"gains\"] = (latest_price)*csu[\"Signal\"]\n",
    "csu[\"investment\"] = csu[\"Signal\"]*csu[\"Close\"] "
   ]
  },
  {
   "cell_type": "code",
   "execution_count": 114,
   "id": "3430072f-239f-45eb-bb8b-adb732cdc3f9",
   "metadata": {},
   "outputs": [
    {
     "data": {
      "text/plain": [
       "2.87848147960619"
      ]
     },
     "execution_count": 114,
     "metadata": {},
     "output_type": "execute_result"
    }
   ],
   "source": [
    "total_gains = csu[\"gains\"].sum()\n",
    "total_investment = csu[\"investment\"].sum()\n",
    "(total_gains + total_investment)/total_investment"
   ]
  },
  {
   "cell_type": "code",
   "execution_count": 122,
   "id": "89a99718-e6e0-4308-a95f-531ccf836df2",
   "metadata": {},
   "outputs": [],
   "source": [
    "csu[\"gains\"] = (latest_price- csu[\"Signal\"]*csu[\"Close\"])*csu[\"Signal\"]\n",
    "csu[\"investment\"] = csu[\"Signal\"]*csu[\"Close\"] "
   ]
  },
  {
   "cell_type": "code",
   "execution_count": 123,
   "id": "64d4e9d5-8108-4de1-83d1-2725d53fe487",
   "metadata": {},
   "outputs": [
    {
     "data": {
      "text/plain": [
       "1.8784814796061904"
      ]
     },
     "execution_count": 123,
     "metadata": {},
     "output_type": "execute_result"
    }
   ],
   "source": [
    "total_gains = csu[\"gains\"].sum()\n",
    "total_investment = csu[\"investment\"].sum()\n",
    "(total_gains + total_investment)/total_investment"
   ]
  },
  {
   "cell_type": "code",
   "execution_count": 139,
   "id": "37aa150f-9a15-42d0-8779-a65fa7a458ac",
   "metadata": {},
   "outputs": [
    {
     "data": {
      "text/plain": [
       "1.8904720194969027"
      ]
     },
     "execution_count": 139,
     "metadata": {},
     "output_type": "execute_result"
    }
   ],
   "source": [
    "buy_signals = csu[\"Signal\"].value_counts()[1]\n",
    "hold_signals = csu[\"Signal\"].value_counts()[0]\n",
    "csu[\"Rand signal\"] = np.random.binomial(1, buy_signals/(buy_signals+hold_signals), len(csu))\n",
    "csu[\"random investment\"] = csu[\"Rand signal\"]*csu[\"Close\"]\n",
    "csu[\"random gains\"] =  (latest_price - csu[\"Rand signal\"]*csu[\"Close\"])*csu[\"Rand signal\"]\n",
    "total_gains = csu[\"random gains\"].sum()\n",
    "total_investment = csu[\"random investment\"].sum()\n",
    "(total_gains + total_investment)/total_investment"
   ]
  },
  {
   "cell_type": "code",
   "execution_count": null,
   "id": "21d2e85e-7765-4256-b88f-e09954877c6b",
   "metadata": {},
   "outputs": [],
   "source": []
  }
 ],
 "metadata": {
  "kernelspec": {
   "display_name": "Python 3 (ipykernel)",
   "language": "python",
   "name": "python3"
  },
  "language_info": {
   "codemirror_mode": {
    "name": "ipython",
    "version": 3
   },
   "file_extension": ".py",
   "mimetype": "text/x-python",
   "name": "python",
   "nbconvert_exporter": "python",
   "pygments_lexer": "ipython3",
   "version": "3.12.2"
  }
 },
 "nbformat": 4,
 "nbformat_minor": 5
}
